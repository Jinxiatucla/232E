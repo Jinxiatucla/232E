{
 "cells": [
  {
   "cell_type": "code",
   "execution_count": 8,
   "metadata": {},
   "outputs": [],
   "source": [
    "mapfile = open (\"data/movie_id_map.txt\",'r',encoding = 'ISO-8859-1')"
   ]
  },
  {
   "cell_type": "code",
   "execution_count": 9,
   "metadata": {},
   "outputs": [],
   "source": [
    "movieNameDict = {}\n",
    "for line in mapfile:\n",
    "    movieNameDict[line[:-1].split(\"\\t\")[0]] = [eval(line[:-1].split(\"\\t\")[1])]"
   ]
  },
  {
   "cell_type": "code",
   "execution_count": 10,
   "metadata": {},
   "outputs": [
    {
     "data": {
      "text/plain": [
       "[0]"
      ]
     },
     "execution_count": 10,
     "metadata": {},
     "output_type": "execute_result"
    }
   ],
   "source": [
    "movieNameDict['American Pimp (1999)']"
   ]
  },
  {
   "cell_type": "code",
   "execution_count": 11,
   "metadata": {},
   "outputs": [],
   "source": [
    "mapfile.close()"
   ]
  },
  {
   "cell_type": "code",
   "execution_count": 12,
   "metadata": {},
   "outputs": [],
   "source": [
    "genrefile = open (\"data/movie_genre.txt\",'r',encoding = 'ISO-8859-1')\n",
    "num = 0\n",
    "for genre in genrefile:\n",
    "    Name_Genre = genre[:-1].split(\"\\t\\t\")\n",
    "    #num += 1\n",
    "    #print (Name_Genre[0])\n",
    "    #print (Name_Genre[1])\n",
    "    if Name_Genre[0] in movieNameDict:\n",
    "        movieNameDict[Name_Genre[0]].append(Name_Genre[1])\n",
    "    else:\n",
    "        #print (Name_Genre[0])\n",
    "        num += 1 "
   ]
  },
  {
   "cell_type": "code",
   "execution_count": 13,
   "metadata": {},
   "outputs": [
    {
     "name": "stdout",
     "output_type": "stream",
     "text": [
      "831945\n"
     ]
    }
   ],
   "source": [
    "print (num)"
   ]
  },
  {
   "cell_type": "code",
   "execution_count": 14,
   "metadata": {},
   "outputs": [
    {
     "data": {
      "text/plain": [
       "[0, 'Documentary']"
      ]
     },
     "execution_count": 14,
     "metadata": {},
     "output_type": "execute_result"
    }
   ],
   "source": [
    "movieNameDict['American Pimp (1999)']"
   ]
  },
  {
   "cell_type": "code",
   "execution_count": 15,
   "metadata": {},
   "outputs": [],
   "source": [
    "n = 0\n",
    "for movie in movieNameDict:\n",
    "    if len(movieNameDict[movie]) == 1:\n",
    "        n += 1\n",
    "        movieNameDict[movie].append(\"genreinfo_missing\")"
   ]
  },
  {
   "cell_type": "code",
   "execution_count": 16,
   "metadata": {},
   "outputs": [
    {
     "name": "stdout",
     "output_type": "stream",
     "text": [
      "24530\n"
     ]
    }
   ],
   "source": [
    "print (n)"
   ]
  },
  {
   "cell_type": "code",
   "execution_count": 17,
   "metadata": {},
   "outputs": [],
   "source": [
    "movieid_genre_file = open (\"data/movieid_genre.txt\",'w',encoding = 'ISO-8859-1')\n",
    "for movie in movieNameDict:\n",
    "    movieid_genre_file.write('%d\\t%s\\n'%(movieNameDict[movie][0],movieNameDict[movie][1]))\n",
    "movieid_genre_file.close()"
   ]
  },
  {
   "cell_type": "code",
   "execution_count": null,
   "metadata": {},
   "outputs": [],
   "source": []
  }
 ],
 "metadata": {
  "kernelspec": {
   "display_name": "Python 3",
   "language": "python",
   "name": "python3"
  },
  "language_info": {
   "codemirror_mode": {
    "name": "ipython",
    "version": 3
   },
   "file_extension": ".py",
   "mimetype": "text/x-python",
   "name": "python",
   "nbconvert_exporter": "python",
   "pygments_lexer": "ipython3",
   "version": "3.5.2"
  }
 },
 "nbformat": 4,
 "nbformat_minor": 2
}
