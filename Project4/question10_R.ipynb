{
 "cells": [
  {
   "cell_type": "code",
   "execution_count": 1,
   "metadata": {},
   "outputs": [
    {
     "name": "stderr",
     "output_type": "stream",
     "text": [
      "\n",
      "Attaching package: 'igraph'\n",
      "\n",
      "The following objects are masked from 'package:stats':\n",
      "\n",
      "    decompose, spectrum\n",
      "\n",
      "The following object is masked from 'package:base':\n",
      "\n",
      "    union\n",
      "\n"
     ]
    }
   ],
   "source": [
    "library(igraph)"
   ]
  },
  {
   "cell_type": "code",
   "execution_count": 21,
   "metadata": {},
   "outputs": [],
   "source": [
    "load(file = \"fc_result.Rdata\")\n",
    "load(file = \"genre_graph.Rdata\")"
   ]
  },
  {
   "cell_type": "code",
   "execution_count": 24,
   "metadata": {},
   "outputs": [
    {
     "name": "stdout",
     "output_type": "stream",
     "text": [
      "[1] 41818\n"
     ]
    }
   ],
   "source": [
    "Community = induced_subgraph(g2, fc[[3]])\n",
    "print(vcount(Community))"
   ]
  },
  {
   "cell_type": "code",
   "execution_count": 25,
   "metadata": {},
   "outputs": [],
   "source": [
    "#add rate to movie graph\n",
    "rateLines <- readLines(\"movieid_rate.txt\")\n",
    "addRate = rep(\"null\",vcount(Community))\n",
    "for (i in 1:length(rateLines)){\n",
    "    rateInfo <- strsplit(rateLines[i],\"\\t\")\n",
    "    movie_id <- rateInfo[[1]][1]\n",
    "    #print (id)\n",
    "    node_idx <- which(V(Community)$name == movie_id)\n",
    "    #print (node_idx)\n",
    "    addRate[node_idx] <- rateInfo[[1]][2]\n",
    "}\n",
    "V(Community)$rate = addRate"
   ]
  },
  {
   "cell_type": "code",
   "execution_count": 71,
   "metadata": {},
   "outputs": [
    {
     "name": "stdout",
     "output_type": "stream",
     "text": [
      "[1] 12207\n",
      "[1] 2786\n",
      "[1] 9130\n"
     ]
    }
   ],
   "source": [
    "#g3 <- delete_vertices(Community, which(is.na(V(Community)$rate)))\n",
    "#print(g3[41818])\n",
    "print(which(V(Community)$name == 12596))\n",
    "print(which(V(Community)$name == 48390))\n",
    "print(which(V(Community)$name == 100855))"
   ]
  },
  {
   "cell_type": "code",
   "execution_count": 92,
   "metadata": {
    "scrolled": true
   },
   "outputs": [],
   "source": [
    "#batman v superman\n",
    "g_1 = induced_subgraph(Community, c(12207, neighbors(Community,12207)))\n"
   ]
  },
  {
   "cell_type": "code",
   "execution_count": 93,
   "metadata": {},
   "outputs": [
    {
     "name": "stdout",
     "output_type": "stream",
     "text": [
      "[1] 6.310395\n"
     ]
    }
   ],
   "source": [
    "rate = c()\n",
    "for (i in V(g_1)$rate){\n",
    "    if(is.na(i)){\n",
    "        \n",
    "    }else{\n",
    "      rate <- c(rate, as.numeric(i))  \n",
    "    }    \n",
    "}\n",
    "print (mean(rate))\n",
    "write.csv(rate, file = \"Rate_1.csv\", row.names=FALSE)"
   ]
  },
  {
   "cell_type": "code",
   "execution_count": 94,
   "metadata": {},
   "outputs": [],
   "source": [
    "#mission impossible\n",
    "g_2 = induced_subgraph(Community, c(2786, neighbors(Community,2786)))"
   ]
  },
  {
   "cell_type": "code",
   "execution_count": 95,
   "metadata": {},
   "outputs": [
    {
     "name": "stdout",
     "output_type": "stream",
     "text": [
      "[1] 6.2397\n"
     ]
    }
   ],
   "source": [
    "rate_2 = c()\n",
    "for (i in V(g_2)$rate){\n",
    "    if(is.na(i)){\n",
    "        \n",
    "    }else{\n",
    "      rate_2 <- c(rate_2, as.numeric(i))  \n",
    "    }    \n",
    "}\n",
    "print (mean(rate_2))\n",
    "write.csv(rate_2, file = \"Rate_2.csv\", row.names=FALSE)"
   ]
  },
  {
   "cell_type": "code",
   "execution_count": 96,
   "metadata": {},
   "outputs": [],
   "source": [
    "#minions\n",
    "g_3 = induced_subgraph(Community, c(9130, neighbors(g3,9130)))"
   ]
  },
  {
   "cell_type": "code",
   "execution_count": 97,
   "metadata": {},
   "outputs": [
    {
     "name": "stdout",
     "output_type": "stream",
     "text": [
      "[1] 6.211377\n"
     ]
    }
   ],
   "source": [
    "rate_3 = c()\n",
    "for (i in V(g_3)$rate){\n",
    "    if(is.na(i)){\n",
    "        \n",
    "    }else{\n",
    "      rate_3 <- c(rate_3, as.numeric(i))  \n",
    "    }    \n",
    "}\n",
    "print (mean(rate_3))\n",
    "write.csv(rate_3, file = \"Rate_3.csv\", row.names=FALSE)"
   ]
  },
  {
   "cell_type": "code",
   "execution_count": null,
   "metadata": {},
   "outputs": [],
   "source": []
  }
 ],
 "metadata": {
  "kernelspec": {
   "display_name": "R",
   "language": "R",
   "name": "ir"
  },
  "language_info": {
   "codemirror_mode": "r",
   "file_extension": ".r",
   "mimetype": "text/x-r-source",
   "name": "R",
   "pygments_lexer": "r",
   "version": "3.4.3"
  }
 },
 "nbformat": 4,
 "nbformat_minor": 2
}
