{
 "cells": [
  {
   "cell_type": "code",
   "execution_count": 1,
   "metadata": {},
   "outputs": [
    {
     "name": "stderr",
     "output_type": "stream",
     "text": [
      "\n",
      "Attaching package: 'igraph'\n",
      "\n",
      "The following objects are masked from 'package:stats':\n",
      "\n",
      "    decompose, spectrum\n",
      "\n",
      "The following object is masked from 'package:base':\n",
      "\n",
      "    union\n",
      "\n"
     ]
    }
   ],
   "source": [
    "library(igraph)"
   ]
  },
  {
   "cell_type": "code",
   "execution_count": 2,
   "metadata": {},
   "outputs": [],
   "source": [
    "load(file='genre_graph.Rdata')"
   ]
  },
  {
   "cell_type": "code",
   "execution_count": 3,
   "metadata": {},
   "outputs": [
    {
     "name": "stdout",
     "output_type": "stream",
     "text": [
      "[1] \"list\"\n"
     ]
    }
   ],
   "source": [
    "print(typeof(g2))"
   ]
  },
  {
   "cell_type": "code",
   "execution_count": 4,
   "metadata": {},
   "outputs": [],
   "source": [
    "#add rate to movie graph\n",
    "rateLines <- readLines(\"movieid_rate.txt\")\n",
    "addRate = rep(\"null\",vcount(g2))\n",
    "for (i in 1:length(rateLines)){\n",
    "    rateInfo <- strsplit(rateLines[i],\"\\t\")\n",
    "    movie_id <- rateInfo[[1]][1]\n",
    "    #print (id)\n",
    "    node_idx <- which(V(g2)$name == movie_id)\n",
    "    #print (node_idx)\n",
    "    addRate[node_idx] <- rateInfo[[1]][2]\n",
    "}\n",
    "V(g2)$rate = addRate"
   ]
  },
  {
   "cell_type": "code",
   "execution_count": 5,
   "metadata": {},
   "outputs": [
    {
     "name": "stdout",
     "output_type": "stream",
     "text": [
      "[1] 179044\n"
     ]
    }
   ],
   "source": [
    "print(vcount(g2))"
   ]
  },
  {
   "cell_type": "code",
   "execution_count": 6,
   "metadata": {},
   "outputs": [
    {
     "name": "stdout",
     "output_type": "stream",
     "text": [
      "[1] 79996\n",
      "[1] 23180\n",
      "[1] 62819\n"
     ]
    }
   ],
   "source": [
    "#g3 <- delete_vertices(g2, which(is.na(V(g2)$rate)))\n",
    "#print (vcount(g3))\n",
    "print(which(V(g2)$name == 12596))\n",
    "print(which(V(g2)$name == 48390))\n",
    "print(which(V(g2)$name == 100855))"
   ]
  },
  {
   "cell_type": "code",
   "execution_count": 7,
   "metadata": {
    "scrolled": true
   },
   "outputs": [],
   "source": [
    "#batman v superman\n",
    "g_1 = induced_subgraph(g2, c(79996, neighbors(g2,79996)))\n"
   ]
  },
  {
   "cell_type": "code",
   "execution_count": 8,
   "metadata": {},
   "outputs": [
    {
     "name": "stdout",
     "output_type": "stream",
     "text": [
      "  [1] 8.7 5.8 7.5 6.4 6.8 8.2 6.6 5.6 6.0 8.3 6.2 7.5 5.8 5.9 6.9 8.4 5.9 6.4\n",
      " [19] 7.2 6.2 8.1 7.1 5.4 7.8 7.2 6.7 7.4 4.8 6.7 6.7 7.4 6.3 5.3 6.0 6.1 6.6\n",
      " [37] 7.1 5.5 7.1 7.2 7.6 6.5 4.5 7.3 6.8 5.6 6.4 6.5 7.8 5.5 7.5 7.0 6.6 7.8\n",
      " [55] 5.9 5.4 6.4 8.6 7.4 5.2 6.4 6.8 6.3 6.5 7.0 7.0 7.2 5.5 5.5 8.6 6.7 8.2\n",
      " [73] 6.3 6.5 5.7 5.2 6.8 6.5 5.2 7.4 7.6 6.5 7.1 6.9 5.2 5.9 6.8 5.8 6.4 7.2\n",
      " [91] 2.9 6.8 7.0 7.4 6.6 7.6 6.5 7.1 7.9 4.9 5.8 7.1 7.4 6.6 7.2 7.1 8.0 8.5\n",
      "[109] 5.9 6.9 7.1 7.6 6.7 6.5 5.3 6.1 6.3 6.2 5.4 6.4 8.5 6.2 6.1 8.5 6.8 7.8\n",
      "[127] 5.3 8.2 4.0 7.7 6.5 7.4 6.6 6.1 5.4 6.6 6.6 6.9 6.1 5.5 6.2 8.8 6.9 6.9\n",
      "[145] 5.4 7.8 7.0 9.4 6.4 7.3 6.0 8.0 6.8 6.4 5.9 6.3 7.2 6.0 6.7 6.8 7.3 5.4\n",
      "[163] 5.9 7.0 8.5 7.2 6.3 6.5 7.4 7.0 6.6 7.8 5.4 5.4 6.0 6.4 6.2 6.5 7.3 6.3\n",
      "[181] 6.7 6.6 5.7 6.9 4.1 9.1 3.8 6.1 7.5 5.6 4.2 6.5 4.5 4.9 6.3 6.0 6.4 6.5\n",
      "[199] 7.7 6.4 4.6 5.8 5.5 4.5 5.2 4.5 3.5 7.0 6.1 6.2 6.2 4.6 8.0 5.3 3.6 4.2\n",
      "[217] 6.3 6.5 7.7 3.4 7.2 7.3 5.7 7.1 5.0 5.9 8.3 5.2 6.8 6.5 6.4 5.0 5.3 6.7\n",
      "[235] 5.6 6.7 5.5 6.8 5.7 7.2 5.7 6.7 7.6 5.7 6.5 7.6 4.2 5.2 7.2 5.3 6.4 5.5\n",
      "[253] 5.1 6.9 3.7 6.3 6.9 7.8 6.7 7.0 6.3 6.8 7.2 5.5 7.7 9.0 7.0 7.7 7.0 6.9\n",
      "[271] 7.0 6.2 6.2 7.0 6.6 7.1 6.2 5.6 5.9 7.1 7.3 6.6 5.7 4.8 6.8 6.4 2.1 7.5\n",
      "[289] 6.6 7.5 8.0 6.6 6.2 6.8 4.8 7.9 5.8 6.1 7.5 5.5 6.4 7.0 7.2 5.3 8.8 5.6\n",
      "[307] 7.2 6.5 6.6 6.9 5.8 5.1 3.6 6.6 8.9 7.2 7.9 5.8 8.0 5.4 5.8 5.6 5.8 6.0\n",
      "[325] 5.2 6.6 7.7 6.8 6.8 5.1 9.7 8.3 6.8 6.7 8.1 5.2 8.0 6.4 5.4 6.5 6.4 6.9\n",
      "[343] 6.0 6.4 6.1 7.4 6.4 6.8 8.2 6.9 4.4 6.3 7.1 5.4 4.8 4.4 6.4 5.9 6.5 5.4\n",
      "[361] 4.2 6.8 5.7 6.4 6.3 5.5 7.2 7.4 6.9 4.7 5.4 2.5 7.6 6.6 5.7 5.5 5.6 7.9\n",
      "[379] 5.7 6.0 6.1 7.6 4.0 2.6 7.6 6.0 7.0 6.2 5.7 5.4 5.8 7.5 6.6 5.4 7.8 3.9\n",
      "[397] 6.0 5.6 6.2 5.8 6.3 6.2 6.9 7.3 6.2 6.3 6.8 5.2 4.7 6.4 6.2 5.7 6.0 5.9\n",
      "[415] 8.0 7.0 8.0 8.3 4.9 2.8 4.8 5.8 6.5 7.5 5.9 7.9 6.7 7.0 7.0 6.4 4.7 5.6\n",
      "[433] 6.3 6.3 5.8 4.5 5.7 6.6 7.2 8.2 4.9 6.4 7.8 5.6 7.7 7.5 6.4 5.6 5.5 5.9\n",
      "[451] 6.0 2.8 6.4 6.0 5.4 6.8 6.3 6.2 7.3 6.5 5.0 7.3 6.8 7.8 7.4 7.5 6.5 5.3\n",
      "[469] 3.7 5.1 4.0 7.4 4.2 6.9 6.3 7.5 7.0 5.9 5.5 2.9 7.6 6.3 6.1 4.7 6.5 4.9\n",
      "[487] 7.0 7.3 7.0 5.7 7.8 5.8 7.9 5.0 6.7 7.5 4.9 5.4 7.5 6.1 4.6 7.2 7.5 7.0\n",
      "[505] 5.2 4.6 6.1 7.4 5.6 5.9 5.0 7.1 6.9 6.3 6.0 6.3 7.7 6.3 5.8 7.0 5.9 6.6\n",
      "[523] 6.5 5.2 6.9 7.2 6.3 7.1 6.0 5.4 5.9 7.5 4.0 5.1 7.6 6.6 6.5 3.5 6.5 8.9\n",
      "[541] 8.2 5.9 7.3 5.3 6.3 7.3 7.3 7.5 3.4 5.7 5.5 6.2 7.8 6.9 6.9 6.2 7.0 7.3\n",
      "[559] 7.7 6.0 6.0 6.5 7.8 7.2 6.6 6.9 7.0 7.3 6.8 5.7 6.7 6.9 5.7 7.2 6.5 3.8\n",
      "[577] 5.4 5.8 5.6 6.0 7.3 5.9 7.1 6.3 4.2 6.3 5.3 6.0 6.6 5.1 6.8 6.6 6.7 3.7\n",
      "[595] 6.6 5.7 3.4 7.8 5.9 6.4 5.3 7.3 7.8 5.2 5.0 7.5 5.1 7.0 6.1 5.1 4.6 6.7\n",
      "[613] 7.5 5.3 5.6 6.4 5.4 7.1 6.1 7.5 5.3 6.0 4.7 5.8 8.0 8.8 6.6 8.0 5.8 5.0\n",
      "[631] 6.8 6.9 4.8 8.3 7.2 5.9 7.2 5.1 8.3 4.8 5.6 4.4 5.3 5.6 5.0 6.7 6.1 8.1\n",
      "[649] 6.9 6.3 6.2 5.7 7.9 8.6 6.8 1.4 8.1 7.0 7.2 6.0 7.0 5.7 7.4 7.6 7.2 6.3\n",
      "[667] 2.3 6.5 4.7 6.5 6.7 6.4 4.9 5.6 5.1 7.0 6.0 6.4 3.6 5.1 6.9 7.4 6.8 5.6\n",
      "[685] 8.1 6.7 4.4 7.1 5.9 7.4 6.1 5.6 7.4 2.9 7.7 7.6 8.1 7.4 7.8 5.0 7.5 7.5\n",
      "[703] 4.3 7.7 7.2 8.8 4.5 4.8 5.6 7.4 6.2 6.3 7.0 8.0 7.1 6.4 5.9 6.9 6.9 8.9\n",
      "[721] 8.3 8.2 7.2 3.9 6.4 4.7 6.6 2.3 5.7 7.3 9.0 4.7 6.5 6.2 6.3 7.1 5.4 7.1\n",
      "[739] 5.7 4.4 7.5 7.7 5.4 7.1 4.6 7.0 6.5 3.6 6.1 5.4 6.0 5.3 6.4 3.5 6.1 2.9\n",
      "[757] 6.0 6.0 7.9 4.2 7.7 3.8 5.3 7.3 5.0 8.3 6.9 4.5 6.1 5.3 7.2 5.3 4.9 5.1\n",
      "[775] 6.9 7.8 7.3 6.8 3.7 8.0 7.1 7.6 6.7 2.3 4.2 6.3 6.8 4.6 6.3 6.3 8.4 6.7\n",
      "[793] 2.0 6.2 4.6 6.0 7.1 4.8 8.1 7.4 7.0 5.0 1.8 7.2 7.2 6.0 6.4 6.8 6.7 5.3\n",
      "[811] 4.4 7.7 7.9 7.4 3.7 3.6 4.3 7.8 8.1 8.4 6.6 6.5 5.9 4.4 6.4 7.7 7.3 4.6\n",
      "[829] 6.5 8.1 3.1 8.3 6.4 6.4 7.3 5.8 7.1 8.3 4.9 7.1 9.0\n"
     ]
    }
   ],
   "source": [
    "rate_1 = c()\n",
    "for (i in V(g_1)$rate){\n",
    "    if(is.na(i)){\n",
    "        \n",
    "    }else{\n",
    "      rate_1 <- c(rate_1, as.numeric(i))  \n",
    "    }    \n",
    "}\n",
    "\n",
    "print (mean(rate_1)\n",
    "write.csv(rate_1, file = \"rate_1_.csv\", row.names=FALSE)"
   ]
  },
  {
   "cell_type": "code",
   "execution_count": 9,
   "metadata": {},
   "outputs": [],
   "source": [
    "#mission impossible\n",
    "g_2 = induced_subgraph(g2, c(23180, neighbors(g2,23180)))"
   ]
  },
  {
   "cell_type": "code",
   "execution_count": 10,
   "metadata": {},
   "outputs": [
    {
     "name": "stdout",
     "output_type": "stream",
     "text": [
      "[1] 6.235976\n"
     ]
    }
   ],
   "source": [
    "rate_2 = c()\n",
    "for (i in V(g_2)$rate){\n",
    "    if(is.na(i)){\n",
    "        \n",
    "    }else{\n",
    "      rate_2 <- c(rate_2, as.numeric(i))  \n",
    "    }    \n",
    "}\n",
    "print (mean(rate_2))\n",
    "write.csv(rate_2, file = \"rate_2_.csv\", row.names=FALSE)"
   ]
  },
  {
   "cell_type": "code",
   "execution_count": 11,
   "metadata": {},
   "outputs": [],
   "source": [
    "#minions\n",
    "g_3 = induced_subgraph(g2, c(62819, neighbors(g2,62819)))"
   ]
  },
  {
   "cell_type": "code",
   "execution_count": 12,
   "metadata": {},
   "outputs": [
    {
     "name": "stdout",
     "output_type": "stream",
     "text": [
      "[1] 6.815028\n"
     ]
    }
   ],
   "source": [
    "rate_3 = c()\n",
    "for (i in V(g_3)$rate){\n",
    "    if(is.na(i)){\n",
    "        \n",
    "    }else{\n",
    "      rate_3 <- c(rate_3, as.numeric(i))  \n",
    "    }    \n",
    "}\n",
    "print (mean(rate_3))\n",
    "write.csv(rate_3, file = \"rate_3_.csv\", row.names=FALSE)"
   ]
  },
  {
   "cell_type": "code",
   "execution_count": null,
   "metadata": {},
   "outputs": [],
   "source": []
  }
 ],
 "metadata": {
  "kernelspec": {
   "display_name": "R",
   "language": "R",
   "name": "ir"
  },
  "language_info": {
   "codemirror_mode": "r",
   "file_extension": ".r",
   "mimetype": "text/x-r-source",
   "name": "R",
   "pygments_lexer": "r",
   "version": "3.4.3"
  }
 },
 "nbformat": 4,
 "nbformat_minor": 2
}
