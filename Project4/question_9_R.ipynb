{
 "cells": [
  {
   "cell_type": "code",
   "execution_count": 1,
   "metadata": {},
   "outputs": [
    {
     "name": "stderr",
     "output_type": "stream",
     "text": [
      "\n",
      "Attaching package: 'igraph'\n",
      "\n",
      "The following objects are masked from 'package:stats':\n",
      "\n",
      "    decompose, spectrum\n",
      "\n",
      "The following object is masked from 'package:base':\n",
      "\n",
      "    union\n",
      "\n"
     ]
    }
   ],
   "source": [
    "library(igraph)"
   ]
  },
  {
   "cell_type": "code",
   "execution_count": 2,
   "metadata": {},
   "outputs": [],
   "source": [
    "load(file='genre_graph.Rdata')"
   ]
  },
  {
   "cell_type": "code",
   "execution_count": 3,
   "metadata": {},
   "outputs": [
    {
     "name": "stdout",
     "output_type": "stream",
     "text": [
      "[1] \"list\"\n"
     ]
    }
   ],
   "source": [
    "print(typeof(g2))"
   ]
  },
  {
   "cell_type": "code",
   "execution_count": 4,
   "metadata": {},
   "outputs": [],
   "source": [
    "#add rate to movie graph\n",
    "rateLines <- readLines(\"movieid_rate.txt\")\n",
    "addRate = rep(\"null\",vcount(g2))\n",
    "for (i in 1:length(rateLines)){\n",
    "    rateInfo <- strsplit(rateLines[i],\"\\t\")\n",
    "    movie_id <- rateInfo[[1]][1]\n",
    "    #print (id)\n",
    "    node_idx <- which(V(g2)$name == movie_id)\n",
    "    #print (node_idx)\n",
    "    addRate[node_idx] <- rateInfo[[1]][2]\n",
    "}\n",
    "V(g2)$rate = addRate"
   ]
  },
  {
   "cell_type": "code",
   "execution_count": 5,
   "metadata": {},
   "outputs": [
    {
     "name": "stdout",
     "output_type": "stream",
     "text": [
      "[1] 179044\n"
     ]
    }
   ],
   "source": [
    "print(vcount(g2))"
   ]
  },
  {
   "cell_type": "code",
   "execution_count": 6,
   "metadata": {},
   "outputs": [
    {
     "name": "stdout",
     "output_type": "stream",
     "text": [
      "[1] 124511\n"
     ]
    }
   ],
   "source": [
    "g3 <- delete_vertices(g2, which(is.na(V(g2)$rate)))\n",
    "print (vcount(g3))"
   ]
  },
  {
   "cell_type": "code",
   "execution_count": 7,
   "metadata": {
    "scrolled": true
   },
   "outputs": [],
   "source": [
    "#batman v superman\n",
    "g_1 = induced_subgraph(g3, c(12596, neighbors(g3,12596)))\n"
   ]
  },
  {
   "cell_type": "code",
   "execution_count": 12,
   "metadata": {},
   "outputs": [
    {
     "name": "stdout",
     "output_type": "stream",
     "text": [
      "[1] 6.027835\n"
     ]
    }
   ],
   "source": [
    "rate = c()\n",
    "for (i in V(g_1)$rate){\n",
    "    rate <- c(rate, as.numeric(i))\n",
    "}\n",
    "print (mean(rate))\n"
   ]
  },
  {
   "cell_type": "code",
   "execution_count": 14,
   "metadata": {},
   "outputs": [],
   "source": [
    "#mission impossible\n",
    "g_2 = induced_subgraph(g3, c(48390, neighbors(g3,48390)))"
   ]
  },
  {
   "cell_type": "code",
   "execution_count": 16,
   "metadata": {},
   "outputs": [
    {
     "name": "stdout",
     "output_type": "stream",
     "text": [
      "[1] 5.790022\n"
     ]
    }
   ],
   "source": [
    "rate_2 = c()\n",
    "for (i in V(g_2)$rate){\n",
    "    rate_2 <- c(rate_2, as.numeric(i))\n",
    "}\n",
    "print (mean(rate_2))\n",
    "write.csv(rate_2, file = \"rate_2.csv\", row.names=FALSE)"
   ]
  },
  {
   "cell_type": "code",
   "execution_count": 18,
   "metadata": {},
   "outputs": [],
   "source": [
    "#minions\n",
    "g_3 = induced_subgraph(g3, c(100855, neighbors(g3,100855)))"
   ]
  },
  {
   "cell_type": "code",
   "execution_count": 19,
   "metadata": {},
   "outputs": [
    {
     "name": "stdout",
     "output_type": "stream",
     "text": [
      "[1] 6.694505\n"
     ]
    }
   ],
   "source": [
    "rate_3 = c()\n",
    "for (i in V(g_3)$rate){\n",
    "    rate_3 <- c(rate_3, as.numeric(i))\n",
    "}\n",
    "print (mean(rate_3))\n",
    "write.csv(rate_3, file = \"rate_3.csv\", row.names=FALSE)"
   ]
  },
  {
   "cell_type": "code",
   "execution_count": null,
   "metadata": {},
   "outputs": [],
   "source": []
  }
 ],
 "metadata": {
  "kernelspec": {
   "display_name": "R",
   "language": "R",
   "name": "ir"
  },
  "language_info": {
   "codemirror_mode": "r",
   "file_extension": ".r",
   "mimetype": "text/x-r-source",
   "name": "R",
   "pygments_lexer": "r",
   "version": "3.4.3"
  }
 },
 "nbformat": 4,
 "nbformat_minor": 2
}
