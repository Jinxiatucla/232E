{
 "cells": [
  {
   "cell_type": "code",
   "execution_count": 1,
   "metadata": {},
   "outputs": [
    {
     "name": "stderr",
     "output_type": "stream",
     "text": [
      "\n",
      "Attaching package: 'igraph'\n",
      "\n",
      "The following objects are masked from 'package:stats':\n",
      "\n",
      "    decompose, spectrum\n",
      "\n",
      "The following object is masked from 'package:base':\n",
      "\n",
      "    union\n",
      "\n"
     ]
    }
   ],
   "source": [
    "library(igraph)"
   ]
  },
  {
   "cell_type": "code",
   "execution_count": 2,
   "metadata": {},
   "outputs": [],
   "source": [
    "g<-read.graph(\"actor_graph.txt\", format=\"ncol\",directed=TRUE)"
   ]
  },
  {
   "cell_type": "code",
   "execution_count": 3,
   "metadata": {},
   "outputs": [],
   "source": [
    "actorpair_list<-c('85737','65951','27639','6536','45419','52788','32127','40351','18109','49655')\n",
    "actornum_list<-c('14503', '111298', '12812', '27258', '32389', '16878', '62774', '107832', '17285', '53248')"
   ]
  },
  {
   "cell_type": "code",
   "execution_count": 4,
   "metadata": {},
   "outputs": [],
   "source": [
    "degree<-degree(g)"
   ]
  },
  {
   "cell_type": "code",
   "execution_count": 9,
   "metadata": {},
   "outputs": [
    {
     "name": "stdout",
     "output_type": "stream",
     "text": [
      "85737 \n",
      "15072 \n",
      "65951 \n",
      " 7906 \n",
      "27639 \n",
      "13919 \n",
      "6536 \n",
      "6629 \n",
      "45419 \n",
      "13173 \n",
      "52788 \n",
      "11126 \n",
      "32127 \n",
      " 5805 \n",
      "40351 \n",
      " 5324 \n",
      "18109 \n",
      " 5905 \n",
      "49655 \n",
      "11004 \n"
     ]
    }
   ],
   "source": [
    "for( i in actorpair_list){\n",
    "    print(degree[i])\n",
    "}"
   ]
  },
  {
   "cell_type": "code",
   "execution_count": 10,
   "metadata": {},
   "outputs": [
    {
     "name": "stdout",
     "output_type": "stream",
     "text": [
      "14503 \n",
      "   32 \n",
      "111298 \n",
      "   518 \n",
      "12812 \n",
      "  296 \n",
      "27258 \n",
      " 2956 \n",
      "32389 \n",
      "  550 \n",
      "16878 \n",
      "  290 \n",
      "62774 \n",
      " 3946 \n",
      "107832 \n",
      "   156 \n",
      "17285 \n",
      " 1214 \n",
      "53248 \n",
      " 1356 \n"
     ]
    }
   ],
   "source": [
    "for( i in actornum_list){\n",
    "    print(degree[i])\n",
    "}"
   ]
  },
  {
   "cell_type": "code",
   "execution_count": null,
   "metadata": {},
   "outputs": [],
   "source": []
  }
 ],
 "metadata": {
  "kernelspec": {
   "display_name": "R",
   "language": "R",
   "name": "ir"
  },
  "language_info": {
   "codemirror_mode": "r",
   "file_extension": ".r",
   "mimetype": "text/x-r-source",
   "name": "R",
   "pygments_lexer": "r",
   "version": "3.4.4"
  }
 },
 "nbformat": 4,
 "nbformat_minor": 2
}
