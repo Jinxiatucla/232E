{
 "cells": [
  {
   "cell_type": "code",
   "execution_count": 1,
   "metadata": {},
   "outputs": [
    {
     "name": "stderr",
     "output_type": "stream",
     "text": [
      "\n",
      "Attaching package: 'igraph'\n",
      "\n",
      "The following objects are masked from 'package:stats':\n",
      "\n",
      "    decompose, spectrum\n",
      "\n",
      "The following object is masked from 'package:base':\n",
      "\n",
      "    union\n",
      "\n"
     ]
    }
   ],
   "source": [
    "library(igraph)\n",
    "library(rjson)\n",
    "library(data.table)"
   ]
  },
  {
   "cell_type": "code",
   "execution_count": 22,
   "metadata": {},
   "outputs": [
    {
     "data": {
      "text/html": [
       "<strong>$names</strong> = <ol class=list-inline>\n",
       "\t<li>'type'</li>\n",
       "\t<li>'features'</li>\n",
       "</ol>\n"
      ],
      "text/latex": [
       "\\textbf{\\$names} = \\begin{enumerate*}\n",
       "\\item 'type'\n",
       "\\item 'features'\n",
       "\\end{enumerate*}\n"
      ],
      "text/markdown": [
       "**$names** = 1. 'type'\n",
       "2. 'features'\n",
       "\n",
       "\n"
      ],
      "text/plain": [
       "$names\n",
       "[1] \"type\"     \"features\"\n"
      ]
     },
     "metadata": {},
     "output_type": "display_data"
    }
   ],
   "source": [
    "#Question6\n",
    "json_sfc<-fromJSON(file='data/san_francisco_censustracts.json')\n",
    "attributes(json_sfc)\n",
    "csv_sfc<-read.csv(file='data/san_francisco-censustracts-2017-4-All-MonthlyAggregate.csv',header=TRUE,sep=\",\")\n",
    "setDT(csv_sfc)\n",
    "csv_sfc<-csv_sfc[month==12][, c(\"sourceid\", \"dstid\", \"mean_travel_time\")]"
   ]
  },
  {
   "cell_type": "code",
   "execution_count": 23,
   "metadata": {
    "scrolled": true
   },
   "outputs": [
    {
     "name": "stdout",
     "output_type": "stream",
     "text": [
      "[1] 2710\n",
      "IGRAPH d529052 UN-- 1887 538998 -- \n",
      "+ attr: name (v/c), mean_travel_time (e/n)\n",
      "+ edges from d529052 (vertex names):\n",
      " [1] 1938--1952 1747--629  1872--1919 1871--1929 81  --2319 1873--1909\n",
      " [7] 232 --809  1891--1729 2423--62   650 --1829 680 --1529 542 --2251\n",
      "[13] 604 --1631 660 --1729 1329--1917 2421--82   1736--739  2021--1192\n",
      "[19] 550 --2171 1721--1308 1700--1518 176 --2145 1721--889  536 --2311\n",
      "[25] 74  --2466 288 --326  169 --2215 99  --2216 1755--549  646 --1211\n",
      "[31] 2315--528  2322--458  2307--608  1390--111  641 --1261 1872--1946\n",
      "[37] 2357--108  1454--64   1729--809  2355--128  722 --1207 2307--612 \n",
      "[43] 98  --2226 1074--464  1058--624  614 --1531 151 --2395 2341--268 \n",
      "+ ... omitted several edges\n",
      "[1] 1887\n",
      "[1] 538998\n",
      "IGRAPH d5a24de UN-- 1880 311802 -- \n",
      "+ attr: name (v/c), DISPLAY_NAME (v/x), x1 (v/x), y1 (v/x), LOCATION\n",
      "| (v/x), mean_travel_time (e/n)\n",
      "+ edges from d5a24de (vertex names):\n",
      " [1] 1938--1747 1938--1872 1938--1873 1938--232  1938--1891 1938--550 \n",
      " [7] 1938--1721 1938--176  1938--74   1938--1755 1938--1946 1938--1729\n",
      "[13] 1938--722  1938--234  1938--251  1938--544  1938--1856 1938--338 \n",
      "[19] 1938--175  1938--687  1938--818  1938--695  1938--682  1938--817 \n",
      "[25] 1938--153  1938--272  1938--1455 1938--876  1938--131  1938--2147\n",
      "[31] 1938--396  1938--2146 1938--2155 1938--52   1938--1269 1938--123 \n",
      "[37] 1938--155  1938--235  1938--702  1938--1284 1938--1925 1938--2613\n",
      "+ ... omitted several edges\n",
      "[1] 1880\n",
      "[1] 311802\n"
     ]
    }
   ],
   "source": [
    "temps<-json_sfc $ features\n",
    "l<-length(temps)\n",
    "print(l)\n",
    "display_temp<-c()\n",
    "x_temp<-c()\n",
    "y_temp<-c()\n",
    "movement_id_temp<-c()\n",
    "location_temp<-list()\n",
    "for(i in 1:l){\n",
    "    temp=temps[[i]]\n",
    "    display_temp<-c(display_temp,temp$properties$DISPLAY_NAME)\n",
    "    location<-temp$geometry$coordinates\n",
    "    location2<-split(unlist(location),1:2)\n",
    "    x_ave=mean(location2[[1]])\n",
    "    y_ave=mean(location2[[2]])\n",
    "    x_temp<-c(x_temp,x_ave)\n",
    "    y_temp<-c(y_temp,y_ave)\n",
    "    location3<-c()\n",
    "    location3<-c(location3,x_ave)\n",
    "    location3<-c(location3,y_ave)\n",
    "    location_temp[[i]]<-location3\n",
    "    movement_id_temp<-c(movement_id_temp,temp$properties$MOVEMENT_ID)\n",
    "}\n",
    "g<-graph.data.frame(d=csv_sfc,directed=FALSE)\n",
    "print(g)\n",
    "print(vcount(g))\n",
    "print(ecount(g))\n",
    "display<-as.list(setNames(display_temp,movement_id_temp))\n",
    "xtemp<-as.list(setNames(x_temp,movement_id_temp))\n",
    "ytemp<-as.list(setNames(y_temp,movement_id_temp))\n",
    "location4<-as.list(setNames(location_temp,movement_id_temp))\n",
    "V(g)$DISPLAY_NAME<-display[V(g)$name]\n",
    "V(g)$x1<-xtemp[V(g)$name]\n",
    "V(g)$y1<-ytemp[V(g)$name]\n",
    "V(g)$LOCATION<-location4[V(g)$name]\n",
    "g<-simplify(g, remove.multiple=TRUE,edge.attr.comb=\"mean\")\n",
    "temp1<-components(g)\n",
    "gcc<-induced.subgraph(g, which(temp1$membership==which.max(temp1$csize)))\n",
    "print(gcc)\n",
    "print(vcount(gcc))\n",
    "print(ecount(gcc))"
   ]
  },
  {
   "cell_type": "code",
   "execution_count": 11,
   "metadata": {},
   "outputs": [
    {
     "ename": "ERROR",
     "evalue": "Error in V(g)[i]$x - V(g)[j]$x: non-numeric argument to binary operator\n",
     "output_type": "error",
     "traceback": [
      "Error in V(g)[i]$x - V(g)[j]$x: non-numeric argument to binary operator\nTraceback:\n"
     ]
    }
   ],
   "source": [
    "a<-0\n",
    "b<-0\n",
    "for(i in 1: vcount(g)){\n",
    "    for(j in i:vcount(g)){\n",
    "        c<-sqrt((V(g)[i]$x-V(g)[j]$x)^2+(V(g)[i]$y-V(g)[j]$y)^2)\n",
    "        id<-get.edge.ids(g,c(i,j),directed=F,error=F)\n",
    "        print(id)\n",
    "        if(id!=0){\n",
    "            a<-a+c\n",
    "            b<-b+E(g)[id]$mean_travel_time\n",
    "            print(\"show\")\n",
    "            print(a)\n",
    "            print(b)\n",
    "        }\n",
    "    }\n",
    "}\n",
    "mean_travel_time_ratio<-b/a\n",
    "print(mean_travel_time_ratio)"
   ]
  },
  {
   "cell_type": "code",
   "execution_count": 24,
   "metadata": {},
   "outputs": [
    {
     "data": {
      "text/plain": [
       "IGRAPH d9015b2 UN-- 1880 1879 -- \n",
       "+ attr: name (v/c), DISPLAY_NAME (v/x), x1 (v/x), y1 (v/x), LOCATION\n",
       "| (v/x), mean_travel_time (e/n)\n",
       "+ edges from d9015b2 (vertex names):\n",
       " [1] 1938--1241 1938--700  1938--2631 1747--1455 1747--528  1747--1746\n",
       " [7] 1872--563  1871--563  1871--1381 1871--390  81  --1701 81  --1295\n",
       "[13] 81  --1772 1873--2488 232 --2155 232 --2513 1891--1868 2423--169 \n",
       "[19] 2423--387  2423--602  2423--1086 650 --1703 650 --206  680 --1748\n",
       "[25] 680 --1461 542 --2700 542 --2503 542 --543  604 --1595 604 --1102\n",
       "[31] 660 --1296 660 --1776 660 --967  1329--1311 1329--824  2421--2225\n",
       "[37] 2421--2214 1736--2251 1736--1737 2021--1180 2021--2066 550 --702 \n",
       "+ ... omitted several edges"
      ]
     },
     "metadata": {},
     "output_type": "display_data"
    }
   ],
   "source": [
    "#question7\n",
    "mstree<-mst(gcc,weights=E(gcc)$mean_travel_time)\n",
    "mstree"
   ]
  },
  {
   "cell_type": "code",
   "execution_count": 21,
   "metadata": {},
   "outputs": [
    {
     "name": "stdout",
     "output_type": "stream",
     "text": [
      "+ 1/1879 edge from 7ab17d6 (vertex names):\n",
      "[1] 1938--1241\n",
      "+ 1/1879 edge from 7ab17d6 (vertex names):\n",
      "[1] 1938--700\n",
      "+ 1/1879 edge from 7ab17d6 (vertex names):\n",
      "[1] 1938--2631\n",
      "+ 1/1879 edge from 7ab17d6 (vertex names):\n",
      "[1] 1747--1455\n",
      "+ 1/1879 edge from 7ab17d6 (vertex names):\n",
      "[1] 1747--528\n",
      "[[1]]\n",
      "[[1]][[1]]\n",
      "[1] \"3300 Brodie Drive, South San Jose, San Jose\"\n",
      "\n",
      "[[1]][[2]]\n",
      "[1] \"4300 La Torre Avenue, South San Jose, San Jose\"\n",
      "\n",
      "[[1]][[3]]\n",
      "[1] 132.59\n",
      "\n",
      "\n",
      "[[2]]\n",
      "[[2]][[1]]\n",
      "[1] \"3300 Brodie Drive, South San Jose, San Jose\"\n",
      "\n",
      "[[2]][[2]]\n",
      "[1] \"3700 McLaughlin Avenue, South San Jose, San Jose\"\n",
      "\n",
      "[[2]][[3]]\n",
      "[1] 126.24\n",
      "\n",
      "\n",
      "[[3]]\n",
      "[[3]][[1]]\n",
      "[1] \"3300 Brodie Drive, South San Jose, San Jose\"\n",
      "\n",
      "[[3]][[2]]\n",
      "[1] \"400 Ginkgo Court, South San Jose, San Jose\"\n",
      "\n",
      "[[3]][[3]]\n",
      "[1] 109.625\n",
      "\n",
      "\n",
      "[[4]]\n",
      "[[4]][[1]]\n",
      "[1] \"1700 Coyote Point Drive, Shoreview, San Mateo\"\n",
      "\n",
      "[[4]][[2]]\n",
      "[1] \"1800 Helene Court, East San Mateo, San Mateo\"\n",
      "\n",
      "[[4]][[3]]\n",
      "[1] 80.985\n",
      "\n",
      "\n",
      "[[5]]\n",
      "[[5]][[1]]\n",
      "[1] \"1700 Coyote Point Drive, Shoreview, San Mateo\"\n",
      "\n",
      "[[5]][[2]]\n",
      "[1] \"600 Lexington Way, Oak Grove Manor, Burlingame\"\n",
      "\n",
      "[[5]][[3]]\n",
      "[1] 111.885\n",
      "\n",
      "\n"
     ]
    }
   ],
   "source": [
    "street_address<-list()\n",
    "for(i in 1:5){\n",
    "    edge<-E(mstree)[i]\n",
    "    print(edge)\n",
    "    temp<-ends(mstree,edge)\n",
    "    street_address[[i]]<-c(V(mstree)[temp[1]]$DISPLAY_NAME,V(mstree)[temp[2]]$DISPLAY_NAME,edge$mean_travel_time)\n",
    "}\n",
    "print(street_address)"
   ]
  },
  {
   "cell_type": "code",
   "execution_count": null,
   "metadata": {},
   "outputs": [],
   "source": []
  },
  {
   "cell_type": "code",
   "execution_count": 26,
   "metadata": {},
   "outputs": [
    {
     "name": "stdout",
     "output_type": "stream",
     "text": [
      "[1] 41\n",
      "[1] 959\n",
      "[1] 0.041\n"
     ]
    }
   ],
   "source": [
    "#question8\n",
    "satisfy_tri<-0\n",
    "notsatisfy_tri<-0\n",
    "matrix<-as_adjacency_matrix(gcc,attr=\"mean_travel_time\")\n",
    "for(i in 1:1000){\n",
    "    vertex<-sample(1:vcount(gcc),3,replace=FALSE)\n",
    "    v1<-matrix[vertex[1],vertex[2]]\n",
    "    v2<-matrix[vertex[2],vertex[3]]\n",
    "    v3<-matrix[vertex[3],vertex[1]]\n",
    "    if((v1+v2>v3)&&(v1+v3>v3)&&(v2+v3>v1)){\n",
    "        satisfy_tri=satisfy_tri+1\n",
    "    }else{\n",
    "        notsatisfy_tri=notsatisfy_tri+1\n",
    "    }\n",
    "}\n",
    "print(satisfy_tri)\n",
    "print(notsatisfy_tri)\n",
    "print(satisfy_tri/1000)"
   ]
  },
  {
   "cell_type": "code",
   "execution_count": 50,
   "metadata": {},
   "outputs": [
    {
     "name": "stdout",
     "output_type": "stream",
     "text": [
      "+ 1/1880 vertex, named, from 0f0cae0:\n",
      "[1] 1873\n"
     ]
    }
   ],
   "source": [
    "#question9\n",
    "temptree<-make_empty_graph(n=vcount(mstree),directed=FALSE)\n",
    "tempdfs<-dfs(mstree,root=1,neimode=\"all\")\n",
    "temporder<-as.matrix(tempdfs$order)\n",
    "meanratio<-6000\n",
    "cost<-0.0\n",
    "tem<-c()\n",
    "for(i in 1:(vcount(mstree)-1)){\n",
    "    temptree<-add_edges(temptree,c(temporder[i],temporder[i+1]))\n",
    "    tem2<-E(mstree)[get.edge.ids(mstree,c(temporder[i],temporder[i+1]))]$mean_travel_time\n",
    "    if(length(tem2)>0){\n",
    "        cost<-cost+tem2\n",
    "        tem<-c(tem,tem2)\n",
    "    }else{\n",
    "        tem2<-meanratio*sqrt((V(mstree)[temporder[i]]-V(mstree)[temporder[i+1]])^2+(V(mstree)[temporder[i]]-V(mstree)[temporder[i+1]])^2)\n",
    "        cost<-cost+tem2\n",
    "        tem<-c(tem,tem2)\n",
    "    }\n",
    "}\n",
    "#cost<-cost+meanratio*sqrt((V(mstree)[temporder[1]]-V(mstree)[temporder[1887]])^2+(V(mstree)[temporder[1]]-V(mstree)[temporder[1887]])^2)\n",
    "print(cost)"
   ]
  },
  {
   "cell_type": "code",
   "execution_count": 46,
   "metadata": {},
   "outputs": [
    {
     "name": "stdout",
     "output_type": "stream",
     "text": [
      "[1] 279408.2\n",
      "[1] 558816.4\n",
      "[1] 1880\n"
     ]
    },
    {
     "data": {
      "text/html": [
       "257.83"
      ],
      "text/latex": [
       "257.83"
      ],
      "text/markdown": [
       "257.83"
      ],
      "text/plain": [
       "[1] 257.83"
      ]
     },
     "metadata": {},
     "output_type": "display_data"
    }
   ],
   "source": [
    "mstree2=as.undirected(as.directed(mstree,'mutual'),'each')\n",
    "small<-sum(E(mstree)$mean_travel_time)\n",
    "print(small)\n",
    "big<-sum(E(mstree2)$mean_travel_time)\n",
    "print(big)\n",
    "temptree<-make_empty_graph(n=vcount(mstree),directed=FALSE)\n",
    "tempdfs<-dfs(mstree,root=1,neimode=\"all\")\n",
    "temporder<-as.matrix(tempdfs$order)\n",
    "print(length(temporder))\n",
    "a= as_adjacency_matrix(gcc, type = \"both\", attr = \"mean_travel_time\")\n",
    "a[temporder[1],temporder[1880]]"
   ]
  },
  {
   "cell_type": "code",
   "execution_count": null,
   "metadata": {},
   "outputs": [],
   "source": []
  },
  {
   "cell_type": "code",
   "execution_count": null,
   "metadata": {},
   "outputs": [],
   "source": []
  },
  {
   "cell_type": "code",
   "execution_count": null,
   "metadata": {},
   "outputs": [],
   "source": []
  }
 ],
 "metadata": {
  "kernelspec": {
   "display_name": "R",
   "language": "R",
   "name": "ir"
  },
  "language_info": {
   "codemirror_mode": "r",
   "file_extension": ".r",
   "mimetype": "text/x-r-source",
   "name": "R",
   "pygments_lexer": "r",
   "version": "3.4.4"
  }
 },
 "nbformat": 4,
 "nbformat_minor": 2
}
