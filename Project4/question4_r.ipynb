{
 "cells": [
  {
   "cell_type": "code",
   "execution_count": 1,
   "metadata": {},
   "outputs": [
    {
     "name": "stderr",
     "output_type": "stream",
     "text": [
      "\n",
      "Attaching package: 'igraph'\n",
      "\n",
      "The following objects are masked from 'package:stats':\n",
      "\n",
      "    decompose, spectrum\n",
      "\n",
      "The following object is masked from 'package:base':\n",
      "\n",
      "    union\n",
      "\n"
     ]
    }
   ],
   "source": [
    "library(igraph)"
   ]
  },
  {
   "cell_type": "code",
   "execution_count": 2,
   "metadata": {},
   "outputs": [],
   "source": [
    "g<-read.graph(\"actor_graph.txt\", format=\"ncol\", directed=TRUE)"
   ]
  },
  {
   "cell_type": "code",
   "execution_count": 4,
   "metadata": {},
   "outputs": [],
   "source": [
    "#Question5\n",
    "pagerank<-page.rank(g)$vector"
   ]
  },
  {
   "cell_type": "code",
   "execution_count": null,
   "metadata": {},
   "outputs": [],
   "source": [
    "sort_pagerank=sort(pagerank,decreasing=TRUE)\n",
    "sort_pagerank"
   ]
  },
  {
   "cell_type": "code",
   "execution_count": 16,
   "metadata": {},
   "outputs": [
    {
     "name": "stdout",
     "output_type": "stream",
     "text": [
      "       85737 \n",
      "0.0002367809 \n",
      "       65951 \n",
      "0.0002022108 \n",
      "       27639 \n",
      "0.0001985548 \n",
      "       6536 \n",
      "0.000195923 \n",
      "       45419 \n",
      "0.0001739214 \n",
      "       52788 \n",
      "0.0001585263 \n",
      "       32127 \n",
      "0.0001584955 \n",
      "       40351 \n",
      "0.0001577622 \n",
      "       18109 \n",
      "0.0001523979 \n",
      "       49655 \n",
      "0.0001480705 \n"
     ]
    }
   ],
   "source": [
    "for ( i in 1:10){\n",
    "    print(sort_pagerank[i])\n",
    "}"
   ]
  },
  {
   "cell_type": "code",
   "execution_count": 10,
   "metadata": {},
   "outputs": [
    {
     "name": "stdout",
     "output_type": "stream",
     "text": [
      "0.0002367809"
     ]
    }
   ],
   "source": [
    "cat(sort_pagerank[1:10]['85737'])"
   ]
  },
  {
   "cell_type": "code",
   "execution_count": 13,
   "metadata": {},
   "outputs": [
    {
     "name": "stdout",
     "output_type": "stream",
     "text": [
      "       14503 \n",
      "2.033903e-06 \n",
      "      111298 \n",
      "3.709162e-06 \n",
      "       12812 \n",
      "4.680764e-06 \n",
      "      27258 \n",
      "1.54111e-05 \n",
      "       32389 \n",
      "9.202545e-06 \n",
      "       16878 \n",
      "5.169025e-06 \n",
      "       62774 \n",
      "3.842072e-05 \n",
      "      107832 \n",
      "6.414926e-06 \n",
      "       17285 \n",
      "1.367736e-05 \n",
      "       53248 \n",
      "1.255729e-05 \n"
     ]
    }
   ],
   "source": [
    "#Question5\n",
    "actornum_list<-c('14503', '111298', '12812', '27258', '32389', '16878', '62774', '107832', '17285', '53248')\n",
    "for ( i in actornum_list){\n",
    "    print(pagerank[i])\n",
    "}"
   ]
  },
  {
   "cell_type": "code",
   "execution_count": null,
   "metadata": {},
   "outputs": [],
   "source": []
  }
 ],
 "metadata": {
  "kernelspec": {
   "display_name": "R",
   "language": "R",
   "name": "ir"
  },
  "language_info": {
   "codemirror_mode": "r",
   "file_extension": ".r",
   "mimetype": "text/x-r-source",
   "name": "R",
   "pygments_lexer": "r",
   "version": "3.4.4"
  }
 },
 "nbformat": 4,
 "nbformat_minor": 2
}
