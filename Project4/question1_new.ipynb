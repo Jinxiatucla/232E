{
 "cells": [
  {
   "cell_type": "markdown",
   "metadata": {},
   "source": [
    "# Project 4\n",
    "## Question 1: preprocessing"
   ]
  },
  {
   "cell_type": "code",
   "execution_count": 1,
   "metadata": {},
   "outputs": [],
   "source": [
    "import re"
   ]
  },
  {
   "cell_type": "code",
   "execution_count": 2,
   "metadata": {
    "scrolled": true
   },
   "outputs": [],
   "source": [
    "actor_movies = []\n",
    "with open('./data/mergeact_movies.txt', 'r', encoding = 'ISO-8859-1') as fid :\n",
    "    for line in fid:\n",
    "        #actor_movies.append(re.split(r'\\s*\\t\\t',line.strip()))\n",
    "        actor_movies.append(line.split(\"\\t\\t\"))    \n",
    "        #actor_movies"
   ]
  },
  {
   "cell_type": "code",
   "execution_count": 3,
   "metadata": {},
   "outputs": [
    {
     "name": "stdout",
     "output_type": "stream",
     "text": [
      "3350466\n"
     ]
    }
   ],
   "source": [
    "print (len(actor_movies))"
   ]
  },
  {
   "cell_type": "code",
   "execution_count": 4,
   "metadata": {},
   "outputs": [],
   "source": [
    "# Remove the actor and actress who has acted in less than 10 movies\n",
    "actor_movies_10 = []\n",
    "for i in actor_movies:\n",
    "    if len(i) > 10 : # the first element is the name of the actor\n",
    "        # print (i)\n",
    "        actor_movies_10.append(i)"
   ]
  },
  {
   "cell_type": "code",
   "execution_count": 5,
   "metadata": {},
   "outputs": [
    {
     "name": "stdout",
     "output_type": "stream",
     "text": [
      "['$hort, Too', 'American Pimp (1999)  ', 'Beats, Rhymes & Life: The Travels of a Tribe Called Quest (2011)  ', 'Gangsta Rap: The Glockumentary (2007)  ', 'Ghetto Physics (2010)', 'Mac Dre: Legend of the Bay (2014)  ', 'Menace II Society (1993)  ', 'Pimpalation: Return of the Trill (2006)  ', 'Porndogs: The Adventures of Sadie (2009)  (voice)  ', 'Rhyme & Reason (1997)  ', 'Stop Pepper Palmer (2014)  ', 'Townbiz (2010)  ', 'Uprising: Hip Hop and the LA Riots (2012)  \\n']\n",
      "113132\n"
     ]
    }
   ],
   "source": [
    "print (actor_movies_10[0])\n",
    "print (len(actor_movies_10))"
   ]
  },
  {
   "cell_type": "code",
   "execution_count": 6,
   "metadata": {},
   "outputs": [],
   "source": [
    "f = open('actmovies_10.txt', 'w')\n",
    "for e in actor_movies_10:\n",
    "    for m in range(0,len(e)-1):\n",
    "        f.write('%s\\t\\t'%e[m])\n",
    "    f.write('%s\\n'%e[-1])\n",
    "f.close()"
   ]
  },
  {
   "cell_type": "code",
   "execution_count": 7,
   "metadata": {},
   "outputs": [],
   "source": [
    "# In later part to creat a actor/actress graph, we can use data from the preprocessed.txt or actDict\n",
    "outfile = open(\"data/preprocessed.txt\",'w',encoding='latin-1')\n",
    "# Because the name of the actors is not unique (two actors have the same name) Thus, we map the name to the actId,\n",
    "# and use the actId to be the keys of the actDict\n",
    "act_id_out = open (\"data/actor_name_id_map.txt\",'w',encoding='latin-1')"
   ]
  },
  {
   "cell_type": "code",
   "execution_count": 8,
   "metadata": {},
   "outputs": [],
   "source": [
    "actDict={}      #key: actId; value: movies he/she attended \n",
    "movieDict={}    #key: movie; value: actor/actress in this movie"
   ]
  },
  {
   "cell_type": "code",
   "execution_count": 9,
   "metadata": {},
   "outputs": [
    {
     "name": "stdout",
     "output_type": "stream",
     "text": [
      "actDict has been written successfully! Actors/actresses quantity: 113132\n",
      "movieDict have been written successfully! Movie quantity: 468201\n"
     ]
    }
   ],
   "source": [
    "# cleaning for consistency & construct the actDict and movieDict\n",
    "actId = 0;\n",
    "for e in actor_movies_10:\n",
    "    actorName = e[0]\n",
    "    #e[0] = actId\n",
    "    act_id_out.write(str(actorName) + \"\\t\\t\" + str(actId) + '\\n')\n",
    "    outfile.write(str(actId))\n",
    "    actId += 1\n",
    "    \n",
    "    for i in range(1, len(e)):\n",
    "        movie = e[i]\n",
    "        # we assume that the movie name is end with (year) or (????), then remove the later part\n",
    "        p = re.compile(r'\\(\\d\\d\\d\\d(.*?)\\)|\\(\\?\\?\\?\\?(.*?)\\)')\n",
    "        year = p.search(movie)\n",
    "        #if movie != \"\":\n",
    "        if year:\n",
    "            end=movie.find(year.group())\n",
    "            movieName = movie[:end] + year.group()\n",
    "            movieName.strip(\" \")\n",
    "            movieName.strip(\"\\t\")\n",
    "            \n",
    "        if movieName in movieDict:\n",
    "            movieDict[movieName].append(actorName)\n",
    "        else:\n",
    "            movieDict[movieName]=[len(movieDict)]\n",
    "            movieDict[movieName].append(actorName)\n",
    "        outfile.write(\"\\t\\t\" + str(movieName))\n",
    "    outfile.write(\"\\n\")\n",
    "    \n",
    "\n",
    "print (\"actDict has been written successfully! Actors/actresses quantity: %d\"%(len(actDict)))\n",
    "print (\"movieDict have been written successfully! Movie quantity: %d\"%(len(movieDict)))"
   ]
  },
  {
   "cell_type": "code",
   "execution_count": 10,
   "metadata": {},
   "outputs": [],
   "source": [
    "outfile.close()\n",
    "act_id_out.close()"
   ]
  },
  {
   "cell_type": "code",
   "execution_count": 12,
   "metadata": {},
   "outputs": [],
   "source": [
    "f = open('actDict.txt', 'w')\n",
    "keylist = actDict.keys()\n",
    "sorted(keylist)\n",
    "for key in keylist:\n",
    "    f.write('%s\\n'%key)\n",
    "f.close()"
   ]
  },
  {
   "cell_type": "code",
   "execution_count": 13,
   "metadata": {},
   "outputs": [],
   "source": [
    "f = open('movieDict.txt', 'w')\n",
    "keylist = movieDict.keys()\n",
    "sorted(keylist)\n",
    "for key in keylist:\n",
    "    f.write('%s\\n'%key)\n",
    "#f.write('%s\\n'%(key for key in sorted(movieDict.keys())))\n",
    "f.close()"
   ]
  },
  {
   "cell_type": "code",
   "execution_count": null,
   "metadata": {},
   "outputs": [],
   "source": []
  }
 ],
 "metadata": {
  "kernelspec": {
   "display_name": "Python 3",
   "language": "python",
   "name": "python3"
  },
  "language_info": {
   "codemirror_mode": {
    "name": "ipython",
    "version": 3
   },
   "file_extension": ".py",
   "mimetype": "text/x-python",
   "name": "python",
   "nbconvert_exporter": "python",
   "pygments_lexer": "ipython3",
   "version": "3.6.4"
  }
 },
 "nbformat": 4,
 "nbformat_minor": 2
}
