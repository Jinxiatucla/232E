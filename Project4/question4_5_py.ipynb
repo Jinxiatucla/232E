{
 "cells": [
  {
   "cell_type": "code",
   "execution_count": 6,
   "metadata": {},
   "outputs": [],
   "source": [
    "actor_movies = []\n",
    "with open('data/mergeact_movies.txt', 'r', encoding = 'ISO-8859-1') as fid :\n",
    "    for line in fid:\n",
    "        #actor_movies.append(re.split(r'\\s*\\t\\t',line.strip()))\n",
    "        actor_movies.append(line.split(\"\\t\\t\"))    \n",
    "        #actor_movies"
   ]
  },
  {
   "cell_type": "code",
   "execution_count": 7,
   "metadata": {},
   "outputs": [],
   "source": [
    "# Remove the actor and actress who has acted in less than 10 movies\n",
    "actor_movies_10 = []\n",
    "for i in actor_movies:\n",
    "    if len(i) > 10 : # the first element is the name of the actor\n",
    "        #print (i)\n",
    "        actor_movies_10.append(i)"
   ]
  },
  {
   "cell_type": "code",
   "execution_count": 8,
   "metadata": {},
   "outputs": [],
   "source": [
    "actorname_list = []\n",
    "for e in actor_movies_10:\n",
    "    actorName = e[0]\n",
    "    actorname_list.append(actorName)"
   ]
  },
  {
   "cell_type": "code",
   "execution_count": 9,
   "metadata": {},
   "outputs": [
    {
     "name": "stdout",
     "output_type": "stream",
     "text": [
      "[['0', 'American Pimp (1999)', 'Beats, Rhymes & Life: The Travels of a Tribe Called Quest (2011)', 'Gangsta Rap: The Glockumentary (2007)', 'Ghetto Physics (2010)', 'Mac Dre: Legend of the Bay (2014)', 'Menace II Society (1993)', 'Pimpalation: Return of the Trill (2006)', 'Porndogs: The Adventures of Sadie (2009)', 'Rhyme & Reason (1997)', 'Stop Pepper Palmer (2014)', 'Townbiz (2010)', 'Uprising: Hip Hop and the LA Riots (2012)']]\n"
     ]
    }
   ],
   "source": [
    "infile=open(\"data/preprocessed.txt\",'r',encoding='ISO-8859-1')\n",
    "actor_movies=[]\n",
    "i=0\n",
    "for line in infile:\n",
    "    actor_movies.append(line[:-1].split('\\t\\t'))\n",
    "print(actor_movies[:1])"
   ]
  },
  {
   "cell_type": "code",
   "execution_count": 10,
   "metadata": {},
   "outputs": [],
   "source": [
    "actorpair_list=['85737','65951','27639','6536','45419','52788','32127','40351','18109','49655']\n",
    "actornum_list=['14503', '111298', '12812', '27258', '32389', '16878', '62774', '107832', '17285', '53248']"
   ]
  },
  {
   "cell_type": "code",
   "execution_count": 11,
   "metadata": {},
   "outputs": [
    {
     "name": "stdout",
     "output_type": "stream",
     "text": [
      "Floyd, Susan\n",
      "12\n",
      "Tate, Larenz\n",
      "19\n",
      "Harris, Robert (XIII)\n",
      "15\n",
      "Blum, Mark (I)\n",
      "31\n",
      "Miller, Ira (I)\n",
      "18\n",
      "Phelps, Tex\n",
      "131\n",
      "Jeremiah, David (I)\n",
      "21\n",
      "Lowenthal, Yuri\n",
      "318\n",
      "Downen, Don\n",
      "41\n",
      "O'Connor, James Andrew\n",
      "17\n"
     ]
    }
   ],
   "source": [
    "for i in actorpair_list:\n",
    "    print(actorname_list[int(i)])\n",
    "    print(len(actor_movies[int(i)])-1)"
   ]
  },
  {
   "cell_type": "code",
   "execution_count": 12,
   "metadata": {},
   "outputs": [
    {
     "name": "stdout",
     "output_type": "stream",
     "text": [
      "Cruise, Tom\n",
      "63\n",
      "Watson, Emma (II)\n",
      "25\n",
      "Clooney, George\n",
      "67\n",
      "Hanks, Tom\n",
      "80\n",
      "Johnson, Dwayne (I)\n",
      "78\n",
      "Depp, Johnny\n",
      "98\n",
      "Smith, Will (I)\n",
      "49\n",
      "Streep, Meryl\n",
      "97\n",
      "DiCaprio, Leonardo\n",
      "49\n",
      "Pitt, Brad\n",
      "71\n"
     ]
    }
   ],
   "source": [
    "for i in actornum_list:\n",
    "    print(actorname_list[int(i)])\n",
    "    print(len(actor_movies[int(i)])-1)"
   ]
  },
  {
   "cell_type": "code",
   "execution_count": null,
   "metadata": {},
   "outputs": [],
   "source": []
  }
 ],
 "metadata": {
  "kernelspec": {
   "display_name": "Python 3",
   "language": "python",
   "name": "python3"
  },
  "language_info": {
   "codemirror_mode": {
    "name": "ipython",
    "version": 3
   },
   "file_extension": ".py",
   "mimetype": "text/x-python",
   "name": "python",
   "nbconvert_exporter": "python",
   "pygments_lexer": "ipython3",
   "version": "3.5.4"
  }
 },
 "nbformat": 4,
 "nbformat_minor": 2
}
